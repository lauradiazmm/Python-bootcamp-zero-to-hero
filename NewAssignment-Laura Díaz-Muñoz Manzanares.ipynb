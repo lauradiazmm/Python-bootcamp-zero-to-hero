{
 "cells": [
  {
   "cell_type": "markdown",
   "metadata": {},
   "source": [
    "# New assignment"
   ]
  },
  {
   "cell_type": "markdown",
   "metadata": {},
   "source": [
    "This assignment is similar in format to the previous one, and involves processing an experimental dataset using `pandas`. The dataset represents words-in-noise confusions collected during the current pandemic using crowdsourcing and is part of a larger study that checks how well crowdsourcing is able to replicate conventional lab studies. \n",
    "\n",
    "As before, there are two parts to the assignment, the first one involving producing snippets of code to answer specific questions, the second involving writing a simple GUI. Instructions on handing in are given at the base of this notebook.\n",
    "\n",
    "The dataset is in the test file `confusions.csv`. The first step is to load this dataset using the code below."
   ]
  },
  {
   "cell_type": "code",
   "execution_count": 388,
   "metadata": {},
   "outputs": [
    {
     "data": {
      "text/html": [
       "<div>\n",
       "<style scoped>\n",
       "    .dataframe tbody tr th:only-of-type {\n",
       "        vertical-align: middle;\n",
       "    }\n",
       "\n",
       "    .dataframe tbody tr th {\n",
       "        vertical-align: top;\n",
       "    }\n",
       "\n",
       "    .dataframe thead th {\n",
       "        text-align: right;\n",
       "    }\n",
       "</style>\n",
       "<table border=\"1\" class=\"dataframe\">\n",
       "  <thead>\n",
       "    <tr style=\"text-align: right;\">\n",
       "      <th></th>\n",
       "      <th>user_id</th>\n",
       "      <th>duration</th>\n",
       "      <th>cond</th>\n",
       "      <th>subj_order</th>\n",
       "      <th>block_order</th>\n",
       "      <th>trial_order</th>\n",
       "      <th>stim</th>\n",
       "      <th>sent</th>\n",
       "      <th>heard</th>\n",
       "    </tr>\n",
       "  </thead>\n",
       "  <tbody>\n",
       "    <tr>\n",
       "      <th>0</th>\n",
       "      <td>34</td>\n",
       "      <td>28</td>\n",
       "      <td>practice</td>\n",
       "      <td>0</td>\n",
       "      <td>0</td>\n",
       "      <td>1</td>\n",
       "      <td>SP_287</td>\n",
       "      <td>prac=prac</td>\n",
       "      <td>x</td>\n",
       "    </tr>\n",
       "    <tr>\n",
       "      <th>1</th>\n",
       "      <td>34</td>\n",
       "      <td>28</td>\n",
       "      <td>practice</td>\n",
       "      <td>0</td>\n",
       "      <td>0</td>\n",
       "      <td>2</td>\n",
       "      <td>SP_228</td>\n",
       "      <td>prac=prac</td>\n",
       "      <td>lol</td>\n",
       "    </tr>\n",
       "    <tr>\n",
       "      <th>2</th>\n",
       "      <td>34</td>\n",
       "      <td>28</td>\n",
       "      <td>practice</td>\n",
       "      <td>0</td>\n",
       "      <td>0</td>\n",
       "      <td>3</td>\n",
       "      <td>SP_295</td>\n",
       "      <td>prac=prac</td>\n",
       "      <td>estopa</td>\n",
       "    </tr>\n",
       "    <tr>\n",
       "      <th>3</th>\n",
       "      <td>34</td>\n",
       "      <td>28</td>\n",
       "      <td>practice</td>\n",
       "      <td>0</td>\n",
       "      <td>0</td>\n",
       "      <td>4</td>\n",
       "      <td>SP_290</td>\n",
       "      <td>muchacho=mucho</td>\n",
       "      <td>miuchcaavho</td>\n",
       "    </tr>\n",
       "    <tr>\n",
       "      <th>4</th>\n",
       "      <td>34</td>\n",
       "      <td>28</td>\n",
       "      <td>practice</td>\n",
       "      <td>0</td>\n",
       "      <td>0</td>\n",
       "      <td>5</td>\n",
       "      <td>SP_230</td>\n",
       "      <td>prac=prac</td>\n",
       "      <td>nuestros</td>\n",
       "    </tr>\n",
       "  </tbody>\n",
       "</table>\n",
       "</div>"
      ],
      "text/plain": [
       "   user_id  duration      cond  subj_order  block_order  trial_order    stim  \\\n",
       "0       34        28  practice           0            0            1  SP_287   \n",
       "1       34        28  practice           0            0            2  SP_228   \n",
       "2       34        28  practice           0            0            3  SP_295   \n",
       "3       34        28  practice           0            0            4  SP_290   \n",
       "4       34        28  practice           0            0            5  SP_230   \n",
       "\n",
       "             sent        heard  \n",
       "0       prac=prac            x  \n",
       "1       prac=prac          lol  \n",
       "2       prac=prac       estopa  \n",
       "3  muchacho=mucho  miuchcaavho  \n",
       "4       prac=prac     nuestros  "
      ]
     },
     "execution_count": 388,
     "metadata": {},
     "output_type": "execute_result"
    }
   ],
   "source": [
    "import pandas as pd\n",
    "data = pd.read_csv('/Users/lauradiazmunozmanzanares/Documents/Universidad UPV/Máster Neurociencia del lenguaje/Scientific Basics/Python/Proyecto final/confusions.csv')\n",
    "data.head()"
   ]
  },
  {
   "cell_type": "markdown",
   "metadata": {},
   "source": [
    "Each row of the data represents a single response from a listener. The dataset contains the following columns:\n",
    "\n",
    "Column name | Meaning\n",
    "----|----\n",
    "`user_id`|  a numeric identifier representing the listener who produced this response\n",
    "`duration` | the time in seconds required for the user to respond to the block\n",
    "`cond` | the name of the condition\n",
    "`subj_order`, `block_order`, `trial_order` | not used\n",
    "`stim` | an identifier representing the specific stimulus\n",
    "`sent` | a pair of words representing the stimulus (explained below)\n",
    "`heard` | the response of the user\n"
   ]
  },
  {
   "cell_type": "markdown",
   "metadata": {},
   "source": [
    "# Part 1: Answer questions Q1-Q15"
   ]
  },
  {
   "cell_type": "markdown",
   "metadata": {},
   "source": [
    "Answer questions 1-15 by writing code and showing the solution. In most cases the code required is a single line or a couple of lines. In some cases you need to write a short function."
   ]
  },
  {
   "cell_type": "markdown",
   "metadata": {},
   "source": [
    "### Q1. How many responses does the dataset contain?"
   ]
  },
  {
   "cell_type": "code",
   "execution_count": 17,
   "metadata": {},
   "outputs": [
    {
     "data": {
      "text/plain": [
       "28940"
      ]
     },
     "execution_count": 17,
     "metadata": {},
     "output_type": "execute_result"
    }
   ],
   "source": [
    "len(data)"
   ]
  },
  {
   "cell_type": "markdown",
   "metadata": {},
   "source": [
    "### Q2. How many columns does the table contain?"
   ]
  },
  {
   "cell_type": "code",
   "execution_count": 18,
   "metadata": {},
   "outputs": [
    {
     "data": {
      "text/plain": [
       "['user_id',\n",
       " 'duration',\n",
       " 'cond',\n",
       " 'subj_order',\n",
       " 'block_order',\n",
       " 'trial_order',\n",
       " 'stim',\n",
       " 'sent',\n",
       " 'heard']"
      ]
     },
     "execution_count": 18,
     "metadata": {},
     "output_type": "execute_result"
    }
   ],
   "source": [
    "df_list= list(data)\n",
    "list(data.columns)"
   ]
  },
  {
   "cell_type": "code",
   "execution_count": 19,
   "metadata": {},
   "outputs": [
    {
     "name": "stdout",
     "output_type": "stream",
     "text": [
      "9\n"
     ]
    }
   ],
   "source": [
    "print(len(data.columns))"
   ]
  },
  {
   "cell_type": "markdown",
   "metadata": {},
   "source": [
    "### Q3. How many different listeners are in the dataset?"
   ]
  },
  {
   "cell_type": "code",
   "execution_count": 21,
   "metadata": {},
   "outputs": [
    {
     "name": "stdout",
     "output_type": "stream",
     "text": [
      "38\n"
     ]
    }
   ],
   "source": [
    "count = 0\n",
    "different_listeners = []\n",
    "\n",
    "for i in range (0, len(data['user_id'])):\n",
    "    \n",
    "    if data['user_id'][i] not in different_listeners:\n",
    "        different_listeners.append(data['user_id'][i])\n",
    "        count += 1\n",
    "        \n",
    "print(count)"
   ]
  },
  {
   "cell_type": "markdown",
   "metadata": {},
   "source": [
    "### Q4. Write an expression that creates a set of all conditions"
   ]
  },
  {
   "cell_type": "code",
   "execution_count": 26,
   "metadata": {},
   "outputs": [
    {
     "name": "stdout",
     "output_type": "stream",
     "text": [
      "['practice', 'SSN_s1', 'BMN3_s1', 'BMN1_s1', 'BAB8_s1', 'BAB4_s1', 'SSN_s4', 'BMN3_s4', 'BMN1_s4', 'BAB8_s4', 'BAB4_s4', 'SSN_s2', 'BMN3_s2', 'BMN1_s2', 'BAB8_s2', 'BAB4_s2', 'SSN_s3', 'BMN3_s3', 'BMN1_s3', 'BAB8_s3', 'BAB4_s3']\n"
     ]
    }
   ],
   "source": [
    "allconditions = []                    \n",
    "for i in data['cond']:\n",
    "    if i not in allconditions: \n",
    "        allconditions += [i]\n",
    "print(allconditions)"
   ]
  },
  {
   "cell_type": "markdown",
   "metadata": {},
   "source": [
    "### Q5. How many rows are there in the `practice` condition?"
   ]
  },
  {
   "cell_type": "code",
   "execution_count": 9,
   "metadata": {},
   "outputs": [
    {
     "name": "stdout",
     "output_type": "stream",
     "text": [
      "266\n"
     ]
    }
   ],
   "source": [
    "count = 0\n",
    "\n",
    "for i in range(0, len(data['cond'])):\n",
    "    if data['cond'][i] == \"practice\":\n",
    "        count += 1\n",
    "        \n",
    "print(count)"
   ]
  },
  {
   "cell_type": "markdown",
   "metadata": {},
   "source": [
    "### Q6. Delete all practice rows \n",
    "\n",
    "Write an expression to remove all rows representing the practice condition from the dataset. Hint: use an expression like this:\n",
    "\n",
    "> `confs = confs[???].copy()`\n",
    "\n",
    "where you replace `???` with an expression that selects just those rows whose condition is not equal to `practice`. Use your answer to Q1 and Q5 to check that the right number of rows have been deleted and your answer to Q4 to check that the `practice` condition no longer appears in the set of conditions. The use of `copy()` ensures that a new dataframe is created and avoids some warnings that you would otherwise see in the answers to later questions."
   ]
  },
  {
   "cell_type": "code",
   "execution_count": 375,
   "metadata": {},
   "outputs": [
    {
     "data": {
      "text/html": [
       "<div>\n",
       "<style scoped>\n",
       "    .dataframe tbody tr th:only-of-type {\n",
       "        vertical-align: middle;\n",
       "    }\n",
       "\n",
       "    .dataframe tbody tr th {\n",
       "        vertical-align: top;\n",
       "    }\n",
       "\n",
       "    .dataframe thead th {\n",
       "        text-align: right;\n",
       "    }\n",
       "</style>\n",
       "<table border=\"1\" class=\"dataframe\">\n",
       "  <thead>\n",
       "    <tr style=\"text-align: right;\">\n",
       "      <th></th>\n",
       "      <th>user_id</th>\n",
       "      <th>duration</th>\n",
       "      <th>cond</th>\n",
       "      <th>subj_order</th>\n",
       "      <th>block_order</th>\n",
       "      <th>trial_order</th>\n",
       "      <th>stim</th>\n",
       "      <th>sent</th>\n",
       "      <th>heard</th>\n",
       "    </tr>\n",
       "  </thead>\n",
       "  <tbody>\n",
       "    <tr>\n",
       "      <th>7</th>\n",
       "      <td>34</td>\n",
       "      <td>149</td>\n",
       "      <td>SSN_s1</td>\n",
       "      <td>1</td>\n",
       "      <td>1</td>\n",
       "      <td>1</td>\n",
       "      <td>SP_17692</td>\n",
       "      <td>forman=hoy</td>\n",
       "      <td>hoy</td>\n",
       "    </tr>\n",
       "    <tr>\n",
       "      <th>8</th>\n",
       "      <td>34</td>\n",
       "      <td>149</td>\n",
       "      <td>SSN_s1</td>\n",
       "      <td>1</td>\n",
       "      <td>1</td>\n",
       "      <td>2</td>\n",
       "      <td>SP_17614</td>\n",
       "      <td>llegaron=llegar</td>\n",
       "      <td>piedad</td>\n",
       "    </tr>\n",
       "    <tr>\n",
       "      <th>9</th>\n",
       "      <td>34</td>\n",
       "      <td>149</td>\n",
       "      <td>SSN_s1</td>\n",
       "      <td>1</td>\n",
       "      <td>1</td>\n",
       "      <td>3</td>\n",
       "      <td>SP_1447</td>\n",
       "      <td>doblar=burlar</td>\n",
       "      <td>nublar</td>\n",
       "    </tr>\n",
       "    <tr>\n",
       "      <th>10</th>\n",
       "      <td>34</td>\n",
       "      <td>149</td>\n",
       "      <td>SSN_s1</td>\n",
       "      <td>1</td>\n",
       "      <td>1</td>\n",
       "      <td>4</td>\n",
       "      <td>SP_20148</td>\n",
       "      <td>saco=salto</td>\n",
       "      <td>sal</td>\n",
       "    </tr>\n",
       "    <tr>\n",
       "      <th>11</th>\n",
       "      <td>34</td>\n",
       "      <td>149</td>\n",
       "      <td>SSN_s1</td>\n",
       "      <td>1</td>\n",
       "      <td>1</td>\n",
       "      <td>5</td>\n",
       "      <td>SP_30375</td>\n",
       "      <td>valle=baño</td>\n",
       "      <td>baño</td>\n",
       "    </tr>\n",
       "  </tbody>\n",
       "</table>\n",
       "</div>"
      ],
      "text/plain": [
       "    user_id  duration    cond  subj_order  block_order  trial_order      stim  \\\n",
       "7        34       149  SSN_s1           1            1            1  SP_17692   \n",
       "8        34       149  SSN_s1           1            1            2  SP_17614   \n",
       "9        34       149  SSN_s1           1            1            3   SP_1447   \n",
       "10       34       149  SSN_s1           1            1            4  SP_20148   \n",
       "11       34       149  SSN_s1           1            1            5  SP_30375   \n",
       "\n",
       "               sent   heard  \n",
       "7        forman=hoy     hoy  \n",
       "8   llegaron=llegar  piedad  \n",
       "9     doblar=burlar  nublar  \n",
       "10       saco=salto     sal  \n",
       "11       valle=baño    baño  "
      ]
     },
     "execution_count": 375,
     "metadata": {},
     "output_type": "execute_result"
    }
   ],
   "source": [
    "new_data = data.copy()\n",
    "\n",
    "new_data.drop (index=new_data[new_data['cond'] == 'practice'].index, inplace= True)\n",
    "new_data.head()"
   ]
  },
  {
   "cell_type": "code",
   "execution_count": 376,
   "metadata": {},
   "outputs": [
    {
     "data": {
      "text/plain": [
       "28674"
      ]
     },
     "execution_count": 376,
     "metadata": {},
     "output_type": "execute_result"
    }
   ],
   "source": [
    "len(new_data)"
   ]
  },
  {
   "cell_type": "code",
   "execution_count": 377,
   "metadata": {},
   "outputs": [
    {
     "name": "stdout",
     "output_type": "stream",
     "text": [
      "['SSN_s1', 'BMN3_s1', 'BMN1_s1', 'BAB8_s1', 'BAB4_s1', 'SSN_s4', 'BMN3_s4', 'BMN1_s4', 'BAB8_s4', 'BAB4_s4', 'SSN_s2', 'BMN3_s2', 'BMN1_s2', 'BAB8_s2', 'BAB4_s2', 'SSN_s3', 'BMN3_s3', 'BMN1_s3', 'BAB8_s3', 'BAB4_s3']\n"
     ]
    }
   ],
   "source": [
    "allconditions = []                     \n",
    "for i in new_data['cond']:\n",
    "    if i not in allconditions: \n",
    "        allconditions += [i]\n",
    "print(allconditions)"
   ]
  },
  {
   "cell_type": "markdown",
   "metadata": {},
   "source": [
    "### Q7. Add new columns representing the masker and the speaker.\n",
    "\n",
    "The condition name consists of the type of masker followed by the speaker identifier, separated by an underscore character e.g. 'BAB4_s1' indicates words spoken by speaker `s1` in the presence of the `BAB4` masker. Your task in this question is to add two columns to the dataframe to represent the masker and speaker. Call the columns `masker` and `speaker`. To add a new column such as `masker` to a dataframe use an expression like:\n",
    "\n",
    "> `confs['masker'] = ???`\n",
    "\n",
    "where the `???` might be, for example, a list comprehension expression. \n",
    "\n",
    "First, write a simple function to split the condition name into two parts, then use this function in the `???` expression for each new column you add.\n",
    "\n",
    "Inspect the dataframe to check that the new columns have been added. Note that if you make a mistake at this point you may need to start afresh i.e. re-load the data and re-evaluate your expressions above."
   ]
  },
  {
   "cell_type": "code",
   "execution_count": 378,
   "metadata": {},
   "outputs": [
    {
     "data": {
      "text/html": [
       "<div>\n",
       "<style scoped>\n",
       "    .dataframe tbody tr th:only-of-type {\n",
       "        vertical-align: middle;\n",
       "    }\n",
       "\n",
       "    .dataframe tbody tr th {\n",
       "        vertical-align: top;\n",
       "    }\n",
       "\n",
       "    .dataframe thead th {\n",
       "        text-align: right;\n",
       "    }\n",
       "</style>\n",
       "<table border=\"1\" class=\"dataframe\">\n",
       "  <thead>\n",
       "    <tr style=\"text-align: right;\">\n",
       "      <th></th>\n",
       "      <th>0</th>\n",
       "      <th>1</th>\n",
       "    </tr>\n",
       "  </thead>\n",
       "  <tbody>\n",
       "    <tr>\n",
       "      <th>7</th>\n",
       "      <td>SSN</td>\n",
       "      <td>s1</td>\n",
       "    </tr>\n",
       "    <tr>\n",
       "      <th>8</th>\n",
       "      <td>SSN</td>\n",
       "      <td>s1</td>\n",
       "    </tr>\n",
       "    <tr>\n",
       "      <th>9</th>\n",
       "      <td>SSN</td>\n",
       "      <td>s1</td>\n",
       "    </tr>\n",
       "    <tr>\n",
       "      <th>10</th>\n",
       "      <td>SSN</td>\n",
       "      <td>s1</td>\n",
       "    </tr>\n",
       "    <tr>\n",
       "      <th>11</th>\n",
       "      <td>SSN</td>\n",
       "      <td>s1</td>\n",
       "    </tr>\n",
       "    <tr>\n",
       "      <th>...</th>\n",
       "      <td>...</td>\n",
       "      <td>...</td>\n",
       "    </tr>\n",
       "    <tr>\n",
       "      <th>28935</th>\n",
       "      <td>BAB4</td>\n",
       "      <td>s3</td>\n",
       "    </tr>\n",
       "    <tr>\n",
       "      <th>28936</th>\n",
       "      <td>BAB4</td>\n",
       "      <td>s3</td>\n",
       "    </tr>\n",
       "    <tr>\n",
       "      <th>28937</th>\n",
       "      <td>BAB4</td>\n",
       "      <td>s3</td>\n",
       "    </tr>\n",
       "    <tr>\n",
       "      <th>28938</th>\n",
       "      <td>BAB4</td>\n",
       "      <td>s3</td>\n",
       "    </tr>\n",
       "    <tr>\n",
       "      <th>28939</th>\n",
       "      <td>BAB4</td>\n",
       "      <td>s3</td>\n",
       "    </tr>\n",
       "  </tbody>\n",
       "</table>\n",
       "<p>28674 rows × 2 columns</p>\n",
       "</div>"
      ],
      "text/plain": [
       "          0   1\n",
       "7       SSN  s1\n",
       "8       SSN  s1\n",
       "9       SSN  s1\n",
       "10      SSN  s1\n",
       "11      SSN  s1\n",
       "...     ...  ..\n",
       "28935  BAB4  s3\n",
       "28936  BAB4  s3\n",
       "28937  BAB4  s3\n",
       "28938  BAB4  s3\n",
       "28939  BAB4  s3\n",
       "\n",
       "[28674 rows x 2 columns]"
      ]
     },
     "execution_count": 378,
     "metadata": {},
     "output_type": "execute_result"
    }
   ],
   "source": [
    "new_data['cond'].str.split('_', expand=True)"
   ]
  },
  {
   "cell_type": "code",
   "execution_count": 379,
   "metadata": {},
   "outputs": [
    {
     "data": {
      "text/html": [
       "<div>\n",
       "<style scoped>\n",
       "    .dataframe tbody tr th:only-of-type {\n",
       "        vertical-align: middle;\n",
       "    }\n",
       "\n",
       "    .dataframe tbody tr th {\n",
       "        vertical-align: top;\n",
       "    }\n",
       "\n",
       "    .dataframe thead th {\n",
       "        text-align: right;\n",
       "    }\n",
       "</style>\n",
       "<table border=\"1\" class=\"dataframe\">\n",
       "  <thead>\n",
       "    <tr style=\"text-align: right;\">\n",
       "      <th></th>\n",
       "      <th>user_id</th>\n",
       "      <th>duration</th>\n",
       "      <th>cond</th>\n",
       "      <th>subj_order</th>\n",
       "      <th>block_order</th>\n",
       "      <th>trial_order</th>\n",
       "      <th>stim</th>\n",
       "      <th>sent</th>\n",
       "      <th>heard</th>\n",
       "      <th>masker</th>\n",
       "      <th>speaker</th>\n",
       "    </tr>\n",
       "  </thead>\n",
       "  <tbody>\n",
       "    <tr>\n",
       "      <th>7</th>\n",
       "      <td>34</td>\n",
       "      <td>149</td>\n",
       "      <td>SSN_s1</td>\n",
       "      <td>1</td>\n",
       "      <td>1</td>\n",
       "      <td>1</td>\n",
       "      <td>SP_17692</td>\n",
       "      <td>forman=hoy</td>\n",
       "      <td>hoy</td>\n",
       "      <td>SSN</td>\n",
       "      <td>s1</td>\n",
       "    </tr>\n",
       "    <tr>\n",
       "      <th>8</th>\n",
       "      <td>34</td>\n",
       "      <td>149</td>\n",
       "      <td>SSN_s1</td>\n",
       "      <td>1</td>\n",
       "      <td>1</td>\n",
       "      <td>2</td>\n",
       "      <td>SP_17614</td>\n",
       "      <td>llegaron=llegar</td>\n",
       "      <td>piedad</td>\n",
       "      <td>SSN</td>\n",
       "      <td>s1</td>\n",
       "    </tr>\n",
       "    <tr>\n",
       "      <th>9</th>\n",
       "      <td>34</td>\n",
       "      <td>149</td>\n",
       "      <td>SSN_s1</td>\n",
       "      <td>1</td>\n",
       "      <td>1</td>\n",
       "      <td>3</td>\n",
       "      <td>SP_1447</td>\n",
       "      <td>doblar=burlar</td>\n",
       "      <td>nublar</td>\n",
       "      <td>SSN</td>\n",
       "      <td>s1</td>\n",
       "    </tr>\n",
       "    <tr>\n",
       "      <th>10</th>\n",
       "      <td>34</td>\n",
       "      <td>149</td>\n",
       "      <td>SSN_s1</td>\n",
       "      <td>1</td>\n",
       "      <td>1</td>\n",
       "      <td>4</td>\n",
       "      <td>SP_20148</td>\n",
       "      <td>saco=salto</td>\n",
       "      <td>sal</td>\n",
       "      <td>SSN</td>\n",
       "      <td>s1</td>\n",
       "    </tr>\n",
       "    <tr>\n",
       "      <th>11</th>\n",
       "      <td>34</td>\n",
       "      <td>149</td>\n",
       "      <td>SSN_s1</td>\n",
       "      <td>1</td>\n",
       "      <td>1</td>\n",
       "      <td>5</td>\n",
       "      <td>SP_30375</td>\n",
       "      <td>valle=baño</td>\n",
       "      <td>baño</td>\n",
       "      <td>SSN</td>\n",
       "      <td>s1</td>\n",
       "    </tr>\n",
       "    <tr>\n",
       "      <th>...</th>\n",
       "      <td>...</td>\n",
       "      <td>...</td>\n",
       "      <td>...</td>\n",
       "      <td>...</td>\n",
       "      <td>...</td>\n",
       "      <td>...</td>\n",
       "      <td>...</td>\n",
       "      <td>...</td>\n",
       "      <td>...</td>\n",
       "      <td>...</td>\n",
       "      <td>...</td>\n",
       "    </tr>\n",
       "    <tr>\n",
       "      <th>28935</th>\n",
       "      <td>87</td>\n",
       "      <td>164</td>\n",
       "      <td>BAB4_s3</td>\n",
       "      <td>1</td>\n",
       "      <td>20</td>\n",
       "      <td>27</td>\n",
       "      <td>SP_49180</td>\n",
       "      <td>suenas=ruinas</td>\n",
       "      <td>ruinas</td>\n",
       "      <td>BAB4</td>\n",
       "      <td>s3</td>\n",
       "    </tr>\n",
       "    <tr>\n",
       "      <th>28936</th>\n",
       "      <td>87</td>\n",
       "      <td>164</td>\n",
       "      <td>BAB4_s3</td>\n",
       "      <td>1</td>\n",
       "      <td>20</td>\n",
       "      <td>28</td>\n",
       "      <td>SP_1319</td>\n",
       "      <td>vino=chicos</td>\n",
       "      <td>chicos</td>\n",
       "      <td>BAB4</td>\n",
       "      <td>s3</td>\n",
       "    </tr>\n",
       "    <tr>\n",
       "      <th>28937</th>\n",
       "      <td>87</td>\n",
       "      <td>164</td>\n",
       "      <td>BAB4_s3</td>\n",
       "      <td>1</td>\n",
       "      <td>20</td>\n",
       "      <td>29</td>\n",
       "      <td>SP_44206</td>\n",
       "      <td>tripas=pipas</td>\n",
       "      <td>pipas</td>\n",
       "      <td>BAB4</td>\n",
       "      <td>s3</td>\n",
       "    </tr>\n",
       "    <tr>\n",
       "      <th>28938</th>\n",
       "      <td>87</td>\n",
       "      <td>164</td>\n",
       "      <td>BAB4_s3</td>\n",
       "      <td>1</td>\n",
       "      <td>20</td>\n",
       "      <td>30</td>\n",
       "      <td>SP_24023</td>\n",
       "      <td>concierto=cierto</td>\n",
       "      <td>desierto</td>\n",
       "      <td>BAB4</td>\n",
       "      <td>s3</td>\n",
       "    </tr>\n",
       "    <tr>\n",
       "      <th>28939</th>\n",
       "      <td>87</td>\n",
       "      <td>164</td>\n",
       "      <td>BAB4_s3</td>\n",
       "      <td>1</td>\n",
       "      <td>20</td>\n",
       "      <td>31</td>\n",
       "      <td>SP_13798</td>\n",
       "      <td>trato=cráter</td>\n",
       "      <td>cráter</td>\n",
       "      <td>BAB4</td>\n",
       "      <td>s3</td>\n",
       "    </tr>\n",
       "  </tbody>\n",
       "</table>\n",
       "<p>28674 rows × 11 columns</p>\n",
       "</div>"
      ],
      "text/plain": [
       "       user_id  duration     cond  subj_order  block_order  trial_order  \\\n",
       "7           34       149   SSN_s1           1            1            1   \n",
       "8           34       149   SSN_s1           1            1            2   \n",
       "9           34       149   SSN_s1           1            1            3   \n",
       "10          34       149   SSN_s1           1            1            4   \n",
       "11          34       149   SSN_s1           1            1            5   \n",
       "...        ...       ...      ...         ...          ...          ...   \n",
       "28935       87       164  BAB4_s3           1           20           27   \n",
       "28936       87       164  BAB4_s3           1           20           28   \n",
       "28937       87       164  BAB4_s3           1           20           29   \n",
       "28938       87       164  BAB4_s3           1           20           30   \n",
       "28939       87       164  BAB4_s3           1           20           31   \n",
       "\n",
       "           stim              sent     heard masker speaker  \n",
       "7      SP_17692        forman=hoy       hoy    SSN      s1  \n",
       "8      SP_17614   llegaron=llegar    piedad    SSN      s1  \n",
       "9       SP_1447     doblar=burlar    nublar    SSN      s1  \n",
       "10     SP_20148        saco=salto       sal    SSN      s1  \n",
       "11     SP_30375        valle=baño      baño    SSN      s1  \n",
       "...         ...               ...       ...    ...     ...  \n",
       "28935  SP_49180     suenas=ruinas    ruinas   BAB4      s3  \n",
       "28936   SP_1319       vino=chicos    chicos   BAB4      s3  \n",
       "28937  SP_44206      tripas=pipas     pipas   BAB4      s3  \n",
       "28938  SP_24023  concierto=cierto  desierto   BAB4      s3  \n",
       "28939  SP_13798      trato=cráter    cráter   BAB4      s3  \n",
       "\n",
       "[28674 rows x 11 columns]"
      ]
     },
     "execution_count": 379,
     "metadata": {},
     "output_type": "execute_result"
    }
   ],
   "source": [
    "new_data[['masker', 'speaker']] = new_data['cond'].str.split('_', expand=True)\n",
    "new_data"
   ]
  },
  {
   "cell_type": "markdown",
   "metadata": {},
   "source": [
    "### Q8. Create new columns representing the stimulus and original confusion\n",
    "\n",
    "Each entry in the `sent` column consistents of a string with two parts separated by an equals sign. The element on the left of the equals represents the stimulus word that was mixed with the masker; the element on the right is what the majority of listeners reported as hearing during the lab test. We refer to this as the original confusion. For example, `vino=chicas` means that in the lab test the majority of listeners heard the target word `vino` (when mixed with noise) as `chicas`. Using a similar approach as in your answer to Q7, create two new columns called `target` and `confusion` containing the left and right hand sides of the `sent` column.\n",
    "\n",
    "Start by modifying the function you wrote in your answer to Q7 by adding an argument representing the character to split on, and use this modified function in your answer to Q8."
   ]
  },
  {
   "cell_type": "code",
   "execution_count": 380,
   "metadata": {},
   "outputs": [
    {
     "data": {
      "text/html": [
       "<div>\n",
       "<style scoped>\n",
       "    .dataframe tbody tr th:only-of-type {\n",
       "        vertical-align: middle;\n",
       "    }\n",
       "\n",
       "    .dataframe tbody tr th {\n",
       "        vertical-align: top;\n",
       "    }\n",
       "\n",
       "    .dataframe thead th {\n",
       "        text-align: right;\n",
       "    }\n",
       "</style>\n",
       "<table border=\"1\" class=\"dataframe\">\n",
       "  <thead>\n",
       "    <tr style=\"text-align: right;\">\n",
       "      <th></th>\n",
       "      <th>0</th>\n",
       "      <th>1</th>\n",
       "    </tr>\n",
       "  </thead>\n",
       "  <tbody>\n",
       "    <tr>\n",
       "      <th>7</th>\n",
       "      <td>forman</td>\n",
       "      <td>hoy</td>\n",
       "    </tr>\n",
       "    <tr>\n",
       "      <th>8</th>\n",
       "      <td>llegaron</td>\n",
       "      <td>llegar</td>\n",
       "    </tr>\n",
       "    <tr>\n",
       "      <th>9</th>\n",
       "      <td>doblar</td>\n",
       "      <td>burlar</td>\n",
       "    </tr>\n",
       "    <tr>\n",
       "      <th>10</th>\n",
       "      <td>saco</td>\n",
       "      <td>salto</td>\n",
       "    </tr>\n",
       "    <tr>\n",
       "      <th>11</th>\n",
       "      <td>valle</td>\n",
       "      <td>baño</td>\n",
       "    </tr>\n",
       "    <tr>\n",
       "      <th>...</th>\n",
       "      <td>...</td>\n",
       "      <td>...</td>\n",
       "    </tr>\n",
       "    <tr>\n",
       "      <th>28935</th>\n",
       "      <td>suenas</td>\n",
       "      <td>ruinas</td>\n",
       "    </tr>\n",
       "    <tr>\n",
       "      <th>28936</th>\n",
       "      <td>vino</td>\n",
       "      <td>chicos</td>\n",
       "    </tr>\n",
       "    <tr>\n",
       "      <th>28937</th>\n",
       "      <td>tripas</td>\n",
       "      <td>pipas</td>\n",
       "    </tr>\n",
       "    <tr>\n",
       "      <th>28938</th>\n",
       "      <td>concierto</td>\n",
       "      <td>cierto</td>\n",
       "    </tr>\n",
       "    <tr>\n",
       "      <th>28939</th>\n",
       "      <td>trato</td>\n",
       "      <td>cráter</td>\n",
       "    </tr>\n",
       "  </tbody>\n",
       "</table>\n",
       "<p>28674 rows × 2 columns</p>\n",
       "</div>"
      ],
      "text/plain": [
       "               0       1\n",
       "7         forman     hoy\n",
       "8       llegaron  llegar\n",
       "9         doblar  burlar\n",
       "10          saco   salto\n",
       "11         valle    baño\n",
       "...          ...     ...\n",
       "28935     suenas  ruinas\n",
       "28936       vino  chicos\n",
       "28937     tripas   pipas\n",
       "28938  concierto  cierto\n",
       "28939      trato  cráter\n",
       "\n",
       "[28674 rows x 2 columns]"
      ]
     },
     "execution_count": 380,
     "metadata": {},
     "output_type": "execute_result"
    }
   ],
   "source": [
    "new_data['sent'].str.split('=', expand=True)"
   ]
  },
  {
   "cell_type": "code",
   "execution_count": 381,
   "metadata": {},
   "outputs": [
    {
     "data": {
      "text/html": [
       "<div>\n",
       "<style scoped>\n",
       "    .dataframe tbody tr th:only-of-type {\n",
       "        vertical-align: middle;\n",
       "    }\n",
       "\n",
       "    .dataframe tbody tr th {\n",
       "        vertical-align: top;\n",
       "    }\n",
       "\n",
       "    .dataframe thead th {\n",
       "        text-align: right;\n",
       "    }\n",
       "</style>\n",
       "<table border=\"1\" class=\"dataframe\">\n",
       "  <thead>\n",
       "    <tr style=\"text-align: right;\">\n",
       "      <th></th>\n",
       "      <th>user_id</th>\n",
       "      <th>duration</th>\n",
       "      <th>cond</th>\n",
       "      <th>subj_order</th>\n",
       "      <th>block_order</th>\n",
       "      <th>trial_order</th>\n",
       "      <th>stim</th>\n",
       "      <th>sent</th>\n",
       "      <th>heard</th>\n",
       "      <th>masker</th>\n",
       "      <th>speaker</th>\n",
       "      <th>target</th>\n",
       "      <th>confusion</th>\n",
       "    </tr>\n",
       "  </thead>\n",
       "  <tbody>\n",
       "    <tr>\n",
       "      <th>7</th>\n",
       "      <td>34</td>\n",
       "      <td>149</td>\n",
       "      <td>SSN_s1</td>\n",
       "      <td>1</td>\n",
       "      <td>1</td>\n",
       "      <td>1</td>\n",
       "      <td>SP_17692</td>\n",
       "      <td>forman=hoy</td>\n",
       "      <td>hoy</td>\n",
       "      <td>SSN</td>\n",
       "      <td>s1</td>\n",
       "      <td>forman</td>\n",
       "      <td>hoy</td>\n",
       "    </tr>\n",
       "    <tr>\n",
       "      <th>8</th>\n",
       "      <td>34</td>\n",
       "      <td>149</td>\n",
       "      <td>SSN_s1</td>\n",
       "      <td>1</td>\n",
       "      <td>1</td>\n",
       "      <td>2</td>\n",
       "      <td>SP_17614</td>\n",
       "      <td>llegaron=llegar</td>\n",
       "      <td>piedad</td>\n",
       "      <td>SSN</td>\n",
       "      <td>s1</td>\n",
       "      <td>llegaron</td>\n",
       "      <td>llegar</td>\n",
       "    </tr>\n",
       "    <tr>\n",
       "      <th>9</th>\n",
       "      <td>34</td>\n",
       "      <td>149</td>\n",
       "      <td>SSN_s1</td>\n",
       "      <td>1</td>\n",
       "      <td>1</td>\n",
       "      <td>3</td>\n",
       "      <td>SP_1447</td>\n",
       "      <td>doblar=burlar</td>\n",
       "      <td>nublar</td>\n",
       "      <td>SSN</td>\n",
       "      <td>s1</td>\n",
       "      <td>doblar</td>\n",
       "      <td>burlar</td>\n",
       "    </tr>\n",
       "    <tr>\n",
       "      <th>10</th>\n",
       "      <td>34</td>\n",
       "      <td>149</td>\n",
       "      <td>SSN_s1</td>\n",
       "      <td>1</td>\n",
       "      <td>1</td>\n",
       "      <td>4</td>\n",
       "      <td>SP_20148</td>\n",
       "      <td>saco=salto</td>\n",
       "      <td>sal</td>\n",
       "      <td>SSN</td>\n",
       "      <td>s1</td>\n",
       "      <td>saco</td>\n",
       "      <td>salto</td>\n",
       "    </tr>\n",
       "    <tr>\n",
       "      <th>11</th>\n",
       "      <td>34</td>\n",
       "      <td>149</td>\n",
       "      <td>SSN_s1</td>\n",
       "      <td>1</td>\n",
       "      <td>1</td>\n",
       "      <td>5</td>\n",
       "      <td>SP_30375</td>\n",
       "      <td>valle=baño</td>\n",
       "      <td>baño</td>\n",
       "      <td>SSN</td>\n",
       "      <td>s1</td>\n",
       "      <td>valle</td>\n",
       "      <td>baño</td>\n",
       "    </tr>\n",
       "    <tr>\n",
       "      <th>...</th>\n",
       "      <td>...</td>\n",
       "      <td>...</td>\n",
       "      <td>...</td>\n",
       "      <td>...</td>\n",
       "      <td>...</td>\n",
       "      <td>...</td>\n",
       "      <td>...</td>\n",
       "      <td>...</td>\n",
       "      <td>...</td>\n",
       "      <td>...</td>\n",
       "      <td>...</td>\n",
       "      <td>...</td>\n",
       "      <td>...</td>\n",
       "    </tr>\n",
       "    <tr>\n",
       "      <th>28935</th>\n",
       "      <td>87</td>\n",
       "      <td>164</td>\n",
       "      <td>BAB4_s3</td>\n",
       "      <td>1</td>\n",
       "      <td>20</td>\n",
       "      <td>27</td>\n",
       "      <td>SP_49180</td>\n",
       "      <td>suenas=ruinas</td>\n",
       "      <td>ruinas</td>\n",
       "      <td>BAB4</td>\n",
       "      <td>s3</td>\n",
       "      <td>suenas</td>\n",
       "      <td>ruinas</td>\n",
       "    </tr>\n",
       "    <tr>\n",
       "      <th>28936</th>\n",
       "      <td>87</td>\n",
       "      <td>164</td>\n",
       "      <td>BAB4_s3</td>\n",
       "      <td>1</td>\n",
       "      <td>20</td>\n",
       "      <td>28</td>\n",
       "      <td>SP_1319</td>\n",
       "      <td>vino=chicos</td>\n",
       "      <td>chicos</td>\n",
       "      <td>BAB4</td>\n",
       "      <td>s3</td>\n",
       "      <td>vino</td>\n",
       "      <td>chicos</td>\n",
       "    </tr>\n",
       "    <tr>\n",
       "      <th>28937</th>\n",
       "      <td>87</td>\n",
       "      <td>164</td>\n",
       "      <td>BAB4_s3</td>\n",
       "      <td>1</td>\n",
       "      <td>20</td>\n",
       "      <td>29</td>\n",
       "      <td>SP_44206</td>\n",
       "      <td>tripas=pipas</td>\n",
       "      <td>pipas</td>\n",
       "      <td>BAB4</td>\n",
       "      <td>s3</td>\n",
       "      <td>tripas</td>\n",
       "      <td>pipas</td>\n",
       "    </tr>\n",
       "    <tr>\n",
       "      <th>28938</th>\n",
       "      <td>87</td>\n",
       "      <td>164</td>\n",
       "      <td>BAB4_s3</td>\n",
       "      <td>1</td>\n",
       "      <td>20</td>\n",
       "      <td>30</td>\n",
       "      <td>SP_24023</td>\n",
       "      <td>concierto=cierto</td>\n",
       "      <td>desierto</td>\n",
       "      <td>BAB4</td>\n",
       "      <td>s3</td>\n",
       "      <td>concierto</td>\n",
       "      <td>cierto</td>\n",
       "    </tr>\n",
       "    <tr>\n",
       "      <th>28939</th>\n",
       "      <td>87</td>\n",
       "      <td>164</td>\n",
       "      <td>BAB4_s3</td>\n",
       "      <td>1</td>\n",
       "      <td>20</td>\n",
       "      <td>31</td>\n",
       "      <td>SP_13798</td>\n",
       "      <td>trato=cráter</td>\n",
       "      <td>cráter</td>\n",
       "      <td>BAB4</td>\n",
       "      <td>s3</td>\n",
       "      <td>trato</td>\n",
       "      <td>cráter</td>\n",
       "    </tr>\n",
       "  </tbody>\n",
       "</table>\n",
       "<p>28674 rows × 13 columns</p>\n",
       "</div>"
      ],
      "text/plain": [
       "       user_id  duration     cond  subj_order  block_order  trial_order  \\\n",
       "7           34       149   SSN_s1           1            1            1   \n",
       "8           34       149   SSN_s1           1            1            2   \n",
       "9           34       149   SSN_s1           1            1            3   \n",
       "10          34       149   SSN_s1           1            1            4   \n",
       "11          34       149   SSN_s1           1            1            5   \n",
       "...        ...       ...      ...         ...          ...          ...   \n",
       "28935       87       164  BAB4_s3           1           20           27   \n",
       "28936       87       164  BAB4_s3           1           20           28   \n",
       "28937       87       164  BAB4_s3           1           20           29   \n",
       "28938       87       164  BAB4_s3           1           20           30   \n",
       "28939       87       164  BAB4_s3           1           20           31   \n",
       "\n",
       "           stim              sent     heard masker speaker     target  \\\n",
       "7      SP_17692        forman=hoy       hoy    SSN      s1     forman   \n",
       "8      SP_17614   llegaron=llegar    piedad    SSN      s1   llegaron   \n",
       "9       SP_1447     doblar=burlar    nublar    SSN      s1     doblar   \n",
       "10     SP_20148        saco=salto       sal    SSN      s1       saco   \n",
       "11     SP_30375        valle=baño      baño    SSN      s1      valle   \n",
       "...         ...               ...       ...    ...     ...        ...   \n",
       "28935  SP_49180     suenas=ruinas    ruinas   BAB4      s3     suenas   \n",
       "28936   SP_1319       vino=chicos    chicos   BAB4      s3       vino   \n",
       "28937  SP_44206      tripas=pipas     pipas   BAB4      s3     tripas   \n",
       "28938  SP_24023  concierto=cierto  desierto   BAB4      s3  concierto   \n",
       "28939  SP_13798      trato=cráter    cráter   BAB4      s3      trato   \n",
       "\n",
       "      confusion  \n",
       "7           hoy  \n",
       "8        llegar  \n",
       "9        burlar  \n",
       "10        salto  \n",
       "11         baño  \n",
       "...         ...  \n",
       "28935    ruinas  \n",
       "28936    chicos  \n",
       "28937     pipas  \n",
       "28938    cierto  \n",
       "28939    cráter  \n",
       "\n",
       "[28674 rows x 13 columns]"
      ]
     },
     "execution_count": 381,
     "metadata": {},
     "output_type": "execute_result"
    }
   ],
   "source": [
    "new_data[['target', 'confusion']] = new_data['sent'].str.split('=', expand=True)\n",
    "new_data"
   ]
  },
  {
   "cell_type": "markdown",
   "metadata": {},
   "source": [
    "Before going any further you might want to tidy up the dataframe by removing various columns that are not going to be used. You can do so like this:"
   ]
  },
  {
   "cell_type": "code",
   "execution_count": 187,
   "metadata": {},
   "outputs": [],
   "source": [
    "new_data.drop(columns={'subj_order', 'block_order', 'trial_order', 'sent', 'cond'}, inplace=True)\n"
   ]
  },
  {
   "cell_type": "markdown",
   "metadata": {},
   "source": [
    "### Q9. Which confusions agree with the original confusions?\n",
    "\n",
    "Create a new column called `agree` that contains `True` when a response is the same as the original confusion, and `False` otherwise. **Your comparison should be case-insensitive**. \n",
    "\n",
    "Hints: (1) write a function to perform the agreement check; (2) use the `str` function to handle any entries that are not strings."
   ]
  },
  {
   "cell_type": "code",
   "execution_count": 242,
   "metadata": {},
   "outputs": [],
   "source": [
    "h= new_data ['heard']\n",
    "c= new_data ['confusion']"
   ]
  },
  {
   "cell_type": "code",
   "execution_count": 243,
   "metadata": {},
   "outputs": [
    {
     "data": {
      "text/html": [
       "<div>\n",
       "<style scoped>\n",
       "    .dataframe tbody tr th:only-of-type {\n",
       "        vertical-align: middle;\n",
       "    }\n",
       "\n",
       "    .dataframe tbody tr th {\n",
       "        vertical-align: top;\n",
       "    }\n",
       "\n",
       "    .dataframe thead th {\n",
       "        text-align: right;\n",
       "    }\n",
       "</style>\n",
       "<table border=\"1\" class=\"dataframe\">\n",
       "  <thead>\n",
       "    <tr style=\"text-align: right;\">\n",
       "      <th></th>\n",
       "      <th>user_id</th>\n",
       "      <th>duration</th>\n",
       "      <th>stim</th>\n",
       "      <th>heard</th>\n",
       "      <th>masker</th>\n",
       "      <th>speaker</th>\n",
       "      <th>target</th>\n",
       "      <th>confusion</th>\n",
       "      <th>agree</th>\n",
       "    </tr>\n",
       "  </thead>\n",
       "  <tbody>\n",
       "    <tr>\n",
       "      <th>7</th>\n",
       "      <td>34</td>\n",
       "      <td>149</td>\n",
       "      <td>SP_17692</td>\n",
       "      <td>hoy</td>\n",
       "      <td>SSN</td>\n",
       "      <td>s1</td>\n",
       "      <td>forman</td>\n",
       "      <td>hoy</td>\n",
       "      <td>True</td>\n",
       "    </tr>\n",
       "    <tr>\n",
       "      <th>8</th>\n",
       "      <td>34</td>\n",
       "      <td>149</td>\n",
       "      <td>SP_17614</td>\n",
       "      <td>piedad</td>\n",
       "      <td>SSN</td>\n",
       "      <td>s1</td>\n",
       "      <td>llegaron</td>\n",
       "      <td>llegar</td>\n",
       "      <td>False</td>\n",
       "    </tr>\n",
       "    <tr>\n",
       "      <th>9</th>\n",
       "      <td>34</td>\n",
       "      <td>149</td>\n",
       "      <td>SP_1447</td>\n",
       "      <td>nublar</td>\n",
       "      <td>SSN</td>\n",
       "      <td>s1</td>\n",
       "      <td>doblar</td>\n",
       "      <td>burlar</td>\n",
       "      <td>False</td>\n",
       "    </tr>\n",
       "    <tr>\n",
       "      <th>10</th>\n",
       "      <td>34</td>\n",
       "      <td>149</td>\n",
       "      <td>SP_20148</td>\n",
       "      <td>sal</td>\n",
       "      <td>SSN</td>\n",
       "      <td>s1</td>\n",
       "      <td>saco</td>\n",
       "      <td>salto</td>\n",
       "      <td>False</td>\n",
       "    </tr>\n",
       "    <tr>\n",
       "      <th>11</th>\n",
       "      <td>34</td>\n",
       "      <td>149</td>\n",
       "      <td>SP_30375</td>\n",
       "      <td>baño</td>\n",
       "      <td>SSN</td>\n",
       "      <td>s1</td>\n",
       "      <td>valle</td>\n",
       "      <td>baño</td>\n",
       "      <td>True</td>\n",
       "    </tr>\n",
       "    <tr>\n",
       "      <th>...</th>\n",
       "      <td>...</td>\n",
       "      <td>...</td>\n",
       "      <td>...</td>\n",
       "      <td>...</td>\n",
       "      <td>...</td>\n",
       "      <td>...</td>\n",
       "      <td>...</td>\n",
       "      <td>...</td>\n",
       "      <td>...</td>\n",
       "    </tr>\n",
       "    <tr>\n",
       "      <th>28935</th>\n",
       "      <td>87</td>\n",
       "      <td>164</td>\n",
       "      <td>SP_49180</td>\n",
       "      <td>ruinas</td>\n",
       "      <td>BAB4</td>\n",
       "      <td>s3</td>\n",
       "      <td>suenas</td>\n",
       "      <td>ruinas</td>\n",
       "      <td>True</td>\n",
       "    </tr>\n",
       "    <tr>\n",
       "      <th>28936</th>\n",
       "      <td>87</td>\n",
       "      <td>164</td>\n",
       "      <td>SP_1319</td>\n",
       "      <td>chicos</td>\n",
       "      <td>BAB4</td>\n",
       "      <td>s3</td>\n",
       "      <td>vino</td>\n",
       "      <td>chicos</td>\n",
       "      <td>True</td>\n",
       "    </tr>\n",
       "    <tr>\n",
       "      <th>28937</th>\n",
       "      <td>87</td>\n",
       "      <td>164</td>\n",
       "      <td>SP_44206</td>\n",
       "      <td>pipas</td>\n",
       "      <td>BAB4</td>\n",
       "      <td>s3</td>\n",
       "      <td>tripas</td>\n",
       "      <td>pipas</td>\n",
       "      <td>True</td>\n",
       "    </tr>\n",
       "    <tr>\n",
       "      <th>28938</th>\n",
       "      <td>87</td>\n",
       "      <td>164</td>\n",
       "      <td>SP_24023</td>\n",
       "      <td>desierto</td>\n",
       "      <td>BAB4</td>\n",
       "      <td>s3</td>\n",
       "      <td>concierto</td>\n",
       "      <td>cierto</td>\n",
       "      <td>False</td>\n",
       "    </tr>\n",
       "    <tr>\n",
       "      <th>28939</th>\n",
       "      <td>87</td>\n",
       "      <td>164</td>\n",
       "      <td>SP_13798</td>\n",
       "      <td>cráter</td>\n",
       "      <td>BAB4</td>\n",
       "      <td>s3</td>\n",
       "      <td>trato</td>\n",
       "      <td>cráter</td>\n",
       "      <td>True</td>\n",
       "    </tr>\n",
       "  </tbody>\n",
       "</table>\n",
       "<p>28674 rows × 9 columns</p>\n",
       "</div>"
      ],
      "text/plain": [
       "       user_id  duration      stim     heard masker speaker     target  \\\n",
       "7           34       149  SP_17692       hoy    SSN      s1     forman   \n",
       "8           34       149  SP_17614    piedad    SSN      s1   llegaron   \n",
       "9           34       149   SP_1447    nublar    SSN      s1     doblar   \n",
       "10          34       149  SP_20148       sal    SSN      s1       saco   \n",
       "11          34       149  SP_30375      baño    SSN      s1      valle   \n",
       "...        ...       ...       ...       ...    ...     ...        ...   \n",
       "28935       87       164  SP_49180    ruinas   BAB4      s3     suenas   \n",
       "28936       87       164   SP_1319    chicos   BAB4      s3       vino   \n",
       "28937       87       164  SP_44206     pipas   BAB4      s3     tripas   \n",
       "28938       87       164  SP_24023  desierto   BAB4      s3  concierto   \n",
       "28939       87       164  SP_13798    cráter   BAB4      s3      trato   \n",
       "\n",
       "      confusion  agree  \n",
       "7           hoy   True  \n",
       "8        llegar  False  \n",
       "9        burlar  False  \n",
       "10        salto  False  \n",
       "11         baño   True  \n",
       "...         ...    ...  \n",
       "28935    ruinas   True  \n",
       "28936    chicos   True  \n",
       "28937     pipas   True  \n",
       "28938    cierto  False  \n",
       "28939    cráter   True  \n",
       "\n",
       "[28674 rows x 9 columns]"
      ]
     },
     "execution_count": 243,
     "metadata": {},
     "output_type": "execute_result"
    }
   ],
   "source": [
    "new_data['agree'] = h == c\n",
    "new_data"
   ]
  },
  {
   "cell_type": "markdown",
   "metadata": {},
   "source": [
    "### Q10. What proportion of responses agree with the original confusion?\n",
    "\n",
    "Across the entire dataset, what proportion of responses agree with the original confusion?"
   ]
  },
  {
   "cell_type": "code",
   "execution_count": 267,
   "metadata": {},
   "outputs": [
    {
     "data": {
      "text/plain": [
       "28674"
      ]
     },
     "execution_count": 267,
     "metadata": {},
     "output_type": "execute_result"
    }
   ],
   "source": [
    "len(new_data['agree'])"
   ]
  },
  {
   "cell_type": "code",
   "execution_count": 263,
   "metadata": {},
   "outputs": [
    {
     "data": {
      "text/plain": [
       "12165"
      ]
     },
     "execution_count": 263,
     "metadata": {},
     "output_type": "execute_result"
    }
   ],
   "source": [
    "agree_ = 0\n",
    "\n",
    "for boolean in new_data['agree']:\n",
    "    if boolean == True:\n",
    "        agree_ += 1\n",
    "agree_"
   ]
  },
  {
   "cell_type": "code",
   "execution_count": 272,
   "metadata": {},
   "outputs": [
    {
     "name": "stdout",
     "output_type": "stream",
     "text": [
      "42.43\n"
     ]
    }
   ],
   "source": [
    "percent = agree_ / len(new_data ['agree']) * 100\n",
    "print(\"{:.2f}\".format(percent))"
   ]
  },
  {
   "cell_type": "markdown",
   "metadata": {},
   "source": [
    "### Q11. How often were the most frequently presented stimuli heard? \n",
    "\n",
    "Hint: you might like to use `Counter` from the `collections` module; see the section of the lecture notes dealing with modes."
   ]
  },
  {
   "cell_type": "code",
   "execution_count": 275,
   "metadata": {},
   "outputs": [],
   "source": [
    "from collections import Counter"
   ]
  },
  {
   "cell_type": "code",
   "execution_count": 284,
   "metadata": {},
   "outputs": [
    {
     "name": "stdout",
     "output_type": "stream",
     "text": [
      "[('SP_17692', 38), ('SP_17614', 38), ('SP_1447', 38), ('SP_20148', 38), ('SP_30375', 38)]\n"
     ]
    }
   ],
   "source": [
    "counter = Counter(new_data['stim'])\n",
    "print(counter.most_common(5))      #the stimuli were heard 38 times"
   ]
  },
  {
   "cell_type": "markdown",
   "metadata": {},
   "source": [
    "### Q12. What proportion of responses agree with the original confusion for each masker type?"
   ]
  },
  {
   "cell_type": "code",
   "execution_count": 339,
   "metadata": {},
   "outputs": [
    {
     "data": {
      "text/html": [
       "<div>\n",
       "<style scoped>\n",
       "    .dataframe tbody tr th:only-of-type {\n",
       "        vertical-align: middle;\n",
       "    }\n",
       "\n",
       "    .dataframe tbody tr th {\n",
       "        vertical-align: top;\n",
       "    }\n",
       "\n",
       "    .dataframe thead th {\n",
       "        text-align: right;\n",
       "    }\n",
       "</style>\n",
       "<table border=\"1\" class=\"dataframe\">\n",
       "  <thead>\n",
       "    <tr style=\"text-align: right;\">\n",
       "      <th></th>\n",
       "      <th>user_id</th>\n",
       "      <th>duration</th>\n",
       "      <th>stim</th>\n",
       "      <th>heard</th>\n",
       "      <th>masker</th>\n",
       "      <th>speaker</th>\n",
       "      <th>target</th>\n",
       "      <th>confusion</th>\n",
       "      <th>agree</th>\n",
       "    </tr>\n",
       "  </thead>\n",
       "  <tbody>\n",
       "    <tr>\n",
       "      <th>7</th>\n",
       "      <td>34</td>\n",
       "      <td>149</td>\n",
       "      <td>SP_17692</td>\n",
       "      <td>hoy</td>\n",
       "      <td>SSN</td>\n",
       "      <td>s1</td>\n",
       "      <td>forman</td>\n",
       "      <td>hoy</td>\n",
       "      <td>True</td>\n",
       "    </tr>\n",
       "    <tr>\n",
       "      <th>11</th>\n",
       "      <td>34</td>\n",
       "      <td>149</td>\n",
       "      <td>SP_30375</td>\n",
       "      <td>baño</td>\n",
       "      <td>SSN</td>\n",
       "      <td>s1</td>\n",
       "      <td>valle</td>\n",
       "      <td>baño</td>\n",
       "      <td>True</td>\n",
       "    </tr>\n",
       "    <tr>\n",
       "      <th>12</th>\n",
       "      <td>34</td>\n",
       "      <td>149</td>\n",
       "      <td>SP_15797</td>\n",
       "      <td>pista</td>\n",
       "      <td>SSN</td>\n",
       "      <td>s1</td>\n",
       "      <td>dijiste</td>\n",
       "      <td>pista</td>\n",
       "      <td>True</td>\n",
       "    </tr>\n",
       "    <tr>\n",
       "      <th>13</th>\n",
       "      <td>34</td>\n",
       "      <td>149</td>\n",
       "      <td>SP_4260</td>\n",
       "      <td>sueño</td>\n",
       "      <td>SSN</td>\n",
       "      <td>s1</td>\n",
       "      <td>suena</td>\n",
       "      <td>sueño</td>\n",
       "      <td>True</td>\n",
       "    </tr>\n",
       "    <tr>\n",
       "      <th>16</th>\n",
       "      <td>34</td>\n",
       "      <td>149</td>\n",
       "      <td>SP_17427</td>\n",
       "      <td>sufrir</td>\n",
       "      <td>SSN</td>\n",
       "      <td>s1</td>\n",
       "      <td>sufrido</td>\n",
       "      <td>sufrir</td>\n",
       "      <td>True</td>\n",
       "    </tr>\n",
       "    <tr>\n",
       "      <th>...</th>\n",
       "      <td>...</td>\n",
       "      <td>...</td>\n",
       "      <td>...</td>\n",
       "      <td>...</td>\n",
       "      <td>...</td>\n",
       "      <td>...</td>\n",
       "      <td>...</td>\n",
       "      <td>...</td>\n",
       "      <td>...</td>\n",
       "    </tr>\n",
       "    <tr>\n",
       "      <th>28934</th>\n",
       "      <td>87</td>\n",
       "      <td>164</td>\n",
       "      <td>SP_13178</td>\n",
       "      <td>actor</td>\n",
       "      <td>BAB4</td>\n",
       "      <td>s3</td>\n",
       "      <td>lector</td>\n",
       "      <td>actor</td>\n",
       "      <td>True</td>\n",
       "    </tr>\n",
       "    <tr>\n",
       "      <th>28935</th>\n",
       "      <td>87</td>\n",
       "      <td>164</td>\n",
       "      <td>SP_49180</td>\n",
       "      <td>ruinas</td>\n",
       "      <td>BAB4</td>\n",
       "      <td>s3</td>\n",
       "      <td>suenas</td>\n",
       "      <td>ruinas</td>\n",
       "      <td>True</td>\n",
       "    </tr>\n",
       "    <tr>\n",
       "      <th>28936</th>\n",
       "      <td>87</td>\n",
       "      <td>164</td>\n",
       "      <td>SP_1319</td>\n",
       "      <td>chicos</td>\n",
       "      <td>BAB4</td>\n",
       "      <td>s3</td>\n",
       "      <td>vino</td>\n",
       "      <td>chicos</td>\n",
       "      <td>True</td>\n",
       "    </tr>\n",
       "    <tr>\n",
       "      <th>28937</th>\n",
       "      <td>87</td>\n",
       "      <td>164</td>\n",
       "      <td>SP_44206</td>\n",
       "      <td>pipas</td>\n",
       "      <td>BAB4</td>\n",
       "      <td>s3</td>\n",
       "      <td>tripas</td>\n",
       "      <td>pipas</td>\n",
       "      <td>True</td>\n",
       "    </tr>\n",
       "    <tr>\n",
       "      <th>28939</th>\n",
       "      <td>87</td>\n",
       "      <td>164</td>\n",
       "      <td>SP_13798</td>\n",
       "      <td>cráter</td>\n",
       "      <td>BAB4</td>\n",
       "      <td>s3</td>\n",
       "      <td>trato</td>\n",
       "      <td>cráter</td>\n",
       "      <td>True</td>\n",
       "    </tr>\n",
       "  </tbody>\n",
       "</table>\n",
       "<p>12165 rows × 9 columns</p>\n",
       "</div>"
      ],
      "text/plain": [
       "       user_id  duration      stim   heard masker speaker   target confusion  \\\n",
       "7           34       149  SP_17692     hoy    SSN      s1   forman       hoy   \n",
       "11          34       149  SP_30375    baño    SSN      s1    valle      baño   \n",
       "12          34       149  SP_15797   pista    SSN      s1  dijiste     pista   \n",
       "13          34       149   SP_4260   sueño    SSN      s1    suena     sueño   \n",
       "16          34       149  SP_17427  sufrir    SSN      s1  sufrido    sufrir   \n",
       "...        ...       ...       ...     ...    ...     ...      ...       ...   \n",
       "28934       87       164  SP_13178   actor   BAB4      s3   lector     actor   \n",
       "28935       87       164  SP_49180  ruinas   BAB4      s3   suenas    ruinas   \n",
       "28936       87       164   SP_1319  chicos   BAB4      s3     vino    chicos   \n",
       "28937       87       164  SP_44206   pipas   BAB4      s3   tripas     pipas   \n",
       "28939       87       164  SP_13798  cráter   BAB4      s3    trato    cráter   \n",
       "\n",
       "       agree  \n",
       "7       True  \n",
       "11      True  \n",
       "12      True  \n",
       "13      True  \n",
       "16      True  \n",
       "...      ...  \n",
       "28934   True  \n",
       "28935   True  \n",
       "28936   True  \n",
       "28937   True  \n",
       "28939   True  \n",
       "\n",
       "[12165 rows x 9 columns]"
      ]
     },
     "execution_count": 339,
     "metadata": {},
     "output_type": "execute_result"
    }
   ],
   "source": [
    "df = new_data[new_data['agree'] == True]\n",
    "df"
   ]
  },
  {
   "cell_type": "code",
   "execution_count": 351,
   "metadata": {},
   "outputs": [
    {
     "data": {
      "text/plain": [
       "BMN1    28.244965\n",
       "BMN3    23.222359\n",
       "SSN     21.052199\n",
       "BAB4    18.060008\n",
       "BAB8     9.420469\n",
       "Name: masker, dtype: float64"
      ]
     },
     "execution_count": 351,
     "metadata": {},
     "output_type": "execute_result"
    }
   ],
   "source": [
    "proportion_masker= (df['masker'].value_counts()/df['masker'].count())*100\n",
    "proportion_masker"
   ]
  },
  {
   "cell_type": "markdown",
   "metadata": {},
   "source": [
    "### Q13. Produce a bar chart showing the information in the answer to Q12.\n",
    "\n",
    "Hint: use `seaborn`"
   ]
  },
  {
   "cell_type": "code",
   "execution_count": 307,
   "metadata": {},
   "outputs": [],
   "source": [
    "import seaborn as sns"
   ]
  },
  {
   "cell_type": "code",
   "execution_count": 324,
   "metadata": {},
   "outputs": [
    {
     "data": {
      "text/plain": [
       "<AxesSubplot:>"
      ]
     },
     "execution_count": 324,
     "metadata": {},
     "output_type": "execute_result"
    },
    {
     "data": {
      "image/png": "[encoded data removed]",
      "text/plain": [
       "<Figure size 432x288 with 1 Axes>"
      ]
     },
     "metadata": {
      "needs_background": "light"
     },
     "output_type": "display_data"
    }
   ],
   "source": [
    "proportion_masker.plot(kind='bar')"
   ]
  },
  {
   "cell_type": "markdown",
   "metadata": {},
   "source": [
    "### Q14. Graph the effect of both masker and speaker on the proportion of agreement\n",
    "\n",
    "Hint: investigate the use of `catplot` in `seaborn` (other solutions are acceptable)."
   ]
  },
  {
   "cell_type": "code",
   "execution_count": 352,
   "metadata": {},
   "outputs": [
    {
     "data": {
      "text/plain": [
       "s1    29.009453\n",
       "s2    27.143444\n",
       "s4    23.526510\n",
       "s3    20.320592\n",
       "Name: speaker, dtype: float64"
      ]
     },
     "execution_count": 352,
     "metadata": {},
     "output_type": "execute_result"
    }
   ],
   "source": [
    "proportion_speaker= (df['speaker'].value_counts()/df['speaker'].count())*100\n",
    "proportion_speaker"
   ]
  },
  {
   "cell_type": "code",
   "execution_count": 366,
   "metadata": {},
   "outputs": [
    {
     "data": {
      "text/plain": [
       "<seaborn.axisgrid.FacetGrid at 0x7fc0f14bde20>"
      ]
     },
     "execution_count": 366,
     "metadata": {},
     "output_type": "execute_result"
    },
    {
     "data": {
      "image/png": "[encoded data removed]",
      "text/plain": [
       "<Figure size 1440x360 with 4 Axes>"
      ]
     },
     "metadata": {
      "needs_background": "light"
     },
     "output_type": "display_data"
    }
   ],
   "source": [
    "sns.catplot(x='masker', data=df, kind='count',\n",
    "               col= 'speaker')"
   ]
  },
  {
   "cell_type": "markdown",
   "metadata": {},
   "source": [
    "### Q15. Write a function that shows all confusions for a specific target word\n",
    "\n",
    "The function takes as input the dataframe and a target word, and returns a set of all confusions from the crowdsourcing experiment (not the original confusions). **Demonstrate your answer by choosing three different target words and showing the result you get in each case**."
   ]
  },
  {
   "cell_type": "code",
   "execution_count": 406,
   "metadata": {},
   "outputs": [
    {
     "name": "stdout",
     "output_type": "stream",
     "text": [
      "Type a sentence to synthesise: \n",
      " forman\n",
      "['hoy', 'hoy', 'x', 'hoy', 'x', 'folio', 'poni', 'joya', 'Hoy', 'pollo', 'oro', 'hoy', 'hoy', 'hoy', 'hoy', 'hoy', 'hoy', 'hola', 'olla', 'hoy', 'por', 'hoy', 'hoy', 'hoy', 'x', 'por', 'bol', 'oya', 'hoy', 'hoy', 'hoy', 'hoy', 'hoy', 'hoy', 'hoy', 'hoy', 'fobia', 'voy']\n",
      "\n",
      "\n",
      "Type a sentence to synthesise: \n",
      " dijiste\n",
      "['pista', 'pista', 'x', 'hiciste', 'lista', 'pista', 'pista', 'pista', 'Pista', 'registro', 'pista', 'pisto', 'registro', 'fiesta', 'pista', 'x', 'registro', 'cristal', 'X', 'cisne', 'cisne', 'x', 'registrar', 'pista', 'x', 'digiste', 'quiste', 'registro', 'x', 'x', 'dijiste', 'quisto', 'dijiste', 'dijiste', 'registro', 'dijiste', 'pista', 'X']\n",
      "\n",
      "\n",
      "Type a sentence to synthesise: \n",
      " valle\n",
      "['baño', 'fallos', 'baño', 'río', 'baño', 'baños', 'ba', 'apaños', 'baño', 'baños', 'baño', 'baño', 'baños', 'baño', 'Baño', 'baños', 'país', 'valla', 'valle', 'puentes', 'baño', 'valles', 'baño', 'baños', 'baño', 'baño', 'baño', 'baño', 'x', 'bailes', 'x', 'baño', 'baño', 'baño', 'paris', 'baño', 'dar', 'azul', 'baños', 'baños', 'baño', 'baño', 'calles', 'baño', 'baños', 'baños', 'baño', 'vaya', 'valles', 'van', 'X', 'playa', 'pais', 'baño', 'baño', 'x', 'baño', 'baños', 'X', 'valles', 'valles', 'baño', 'valla', 'vaya', 'paños', 'baño', 'compañeros', 'baño', 'bañes', 'baño', 'baños', 'X', 'baños', 'valle']\n",
      "\n",
      "\n"
     ]
    }
   ],
   "source": [
    "\n",
    "    sentence = input('Type a sentence to synthesise: \\n ')\n",
    "    results = []\n",
    "    for i, row in new_data.iterrows():\n",
    "        if row['target'] == sentence:\n",
    "            results.append(row['heard'])\n",
    "    print(results) \n",
    "    print('\\n')\n"
   ]
  },
  {
   "cell_type": "code",
   "execution_count": null,
   "metadata": {},
   "outputs": [],
   "source": []
  },
  {
   "cell_type": "markdown",
   "metadata": {},
   "source": [
    "# Part 2: Build a GUI to display confusions\n",
    "\n",
    "Use your solutions to some of the questions above to produce a simple GUI that allows a user to type in a target word, and as a result displays all the confusions that occurred in response to that target word in the crowdsourcing experiment."
   ]
  },
  {
   "cell_type": "markdown",
   "metadata": {},
   "source": [
    "70% of the assessment comes from your answers to part 1 and 30% from part 2. \n",
    "\n",
    "### Hand in\n",
    "\n",
    "Hand in a zip file (not rar or any other format) that contains exactly three files:\n",
    "\n",
    "1. This notebook\n",
    "2. A python program that implements the GUI for part 2.\n",
    "3. The `confusions.csv` file that you were sent."
   ]
  },
  {
   "cell_type": "code",
   "execution_count": null,
   "metadata": {},
   "outputs": [],
   "source": []
  }
 ],
 "metadata": {
  "kernelspec": {
   "display_name": "Python 3",
   "language": "python",
   "name": "python3"
  },
  "language_info": {
   "codemirror_mode": {
    "name": "ipython",
    "version": 3
   },
   "file_extension": ".py",
   "mimetype": "text/x-python",
   "name": "python",
   "nbconvert_exporter": "python",
   "pygments_lexer": "ipython3",
   "version": "3.8.8"
  }
 },
 "nbformat": 4,
 "nbformat_minor": 4
}
